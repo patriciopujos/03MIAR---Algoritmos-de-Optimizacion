{
 "cells": [
  {
   "cell_type": "markdown",
   "metadata": {},
   "source": [
    "# Actividad Guiada 2 (Voy aplicar al 10/10)\n",
    "# Wilmer Patricio Pujos Castro\n",
    "#### Link GitHub Repository: https://github.com/patriciopujos/03MIAR---Algoritmos-de-Optimizacion/blob/9a999f34275568efe51789ea03861e9e4421d4af/Algoritmos%20-%20Patricio%20Pujos%20-%20AG2.ipynb"
   ]
  },
  {
   "cell_type": "code",
   "execution_count": null,
   "metadata": {},
   "outputs": [],
   "source": [
    "import random\n",
    "import numpy as np\n",
    "import matplotlib.pyplot as plt\n",
    "\n",
    "#Función\n",
    "f = lambda X : X[0]**2 + X[1]**2\n",
    "df = lambda X : [2 * X[0] , 2 * X[1]]\n",
    "\n",
    "#Prepara los datos para dibujar mapa de niveles de Z\n",
    "resolucion = 300\n",
    "rango = 2.5\n",
    "X = np.linspace(-rango, rango, resolucion)\n",
    "Y = np.linspace(-rango, rango, resolucion)\n",
    "Z = np.zeros((resolucion, resolucion))\n",
    "\n",
    "for ix, x in enumerate(X):\n",
    "    for iy, y in enumerate(Y):\n",
    "        Z[ix,iy] = f([x,y])\n",
    "\n",
    "contour = plt.contour(X, Y, Z, resolucion)\n",
    "cbar = plt.colorbar(contour)\n",
    "\n",
    "#Generar punto de partida aleatorio\n",
    "P = [random.uniform(-rango,rango), random.uniform(-rango,rango)]\n",
    "plt.plot(P[0], P[1], \"o\", c = \"red\")\n",
    "initial_TA = 0.05\n",
    "#Radio de decaimiento\n",
    "dec_ratio  = 0.75\n",
    "#Numero de pasos\n",
    "dec_steps = 100\n",
    "\n",
    "\n",
    "for i in range(1000):\n",
    "    grad = df(P)\n",
    "    #Tasa de aprendizaje: ini_TA * radio ^ (paso/dec_steps)\n",
    "    learning_rate = initial_TA * (dec_ratio ** (i/dec_steps))\n",
    "    P[0], P[1] = P[0] - learning_rate*grad[0], P[1] - learning_rate*grad[1]\n",
    "    plt.plot(P[0], P[1], \"o\", c = \"red\")\n",
    "\n",
    "plt.plot(P[0], P[1], \"o\", c = \"blue\")\n",
    "print(\"Solución: \", P, f(P))"
   ]
  }
 ],
 "metadata": {
  "kernelspec": {
   "display_name": "Python 3",
   "language": "python",
   "name": "python3"
  },
  "language_info": {
   "codemirror_mode": {
    "name": "ipython",
    "version": 3
   },
   "file_extension": ".py",
   "mimetype": "text/x-python",
   "name": "python",
   "nbconvert_exporter": "python",
   "pygments_lexer": "ipython3",
   "version": "3.10.0"
  },
  "orig_nbformat": 4
 },
 "nbformat": 4,
 "nbformat_minor": 2
}
