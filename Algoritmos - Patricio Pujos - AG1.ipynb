{
 "cells": [
  {
   "cell_type": "markdown",
   "metadata": {},
   "source": [
    "# Actividad Guiada 1 (Voy aplicar al 10/10)\n",
    "# Wilmer Patricio Pujos Castro\n",
    "#### Link GitHub Repository: https://github.com/patriciopujos/03MIAR---Algoritmos-de-Optimizacion/blob/caf1bccd67ac340bd7b681ba4fc4a22808332f93/Algotimos%20-%20Patricio%20Pujos%20-%20AG1.ipynb"
   ]
  },
  {
   "cell_type": "markdown",
   "metadata": {},
   "source": [
    "* Algoritmo Recursivo: Torres de Hanoi:"
   ]
  },
  {
   "cell_type": "code",
   "execution_count": 3,
   "metadata": {},
   "outputs": [
    {
     "name": "stdout",
     "output_type": "stream",
     "text": [
      "Mover bloque desde 1 a 2\n",
      "Mover bloque desde 1 a 3\n",
      "Mover bloque desde 2 a 3\n",
      "Mover bloque desde 1 a 2\n",
      "Mover bloque desde 3 a 1\n",
      "Mover bloque desde 3 a 2\n",
      "Mover bloque desde 1 a 2\n",
      "Mover bloque desde 1 a 3\n",
      "Mover bloque desde 2 a 3\n",
      "Mover bloque desde 2 a 1\n",
      "Mover bloque desde 3 a 1\n",
      "Mover bloque desde 2 a 3\n",
      "Mover bloque desde 1 a 2\n",
      "Mover bloque desde 1 a 3\n",
      "Mover bloque desde 2 a 3\n"
     ]
    }
   ],
   "source": [
    "def torres_hanoi(N, origen, destino, pivote):\n",
    "    if N==1:\n",
    "        print(f\"Mover bloque desde {origen} a {destino}\")    \n",
    "        return\n",
    "\n",
    "    torres_hanoi(N-1, origen, pivote, destino)\n",
    "    print(f\"Mover bloque desde {origen} a {destino}\")\n",
    "    torres_hanoi(N-1, pivote, destino, origen)\n",
    "\n",
    "torres_hanoi(4,1,3,2)\n"
   ]
  },
  {
   "cell_type": "markdown",
   "metadata": {},
   "source": [
    "* Algoritmo Voraz: Cambio de Monedas"
   ]
  },
  {
   "cell_type": "code",
   "execution_count": 7,
   "metadata": {},
   "outputs": [
    {
     "name": "stdout",
     "output_type": "stream",
     "text": [
      "Sistema: \n",
      "[25, 10, 5, 1]\n"
     ]
    },
    {
     "data": {
      "text/plain": [
       "[5, 1, 0, 3]"
      ]
     },
     "execution_count": 7,
     "metadata": {},
     "output_type": "execute_result"
    }
   ],
   "source": [
    "def cambio_moneda(cantidad, sistema):\n",
    "    print (\"Sistema: \")\n",
    "    print(sistema)\n",
    "    solucion = [0 for i in range(len(sistema))] #crea lista de ceros (tantos la dimensión del sistema).\n",
    "    valor_acumulado=0\n",
    "\n",
    "    for i in range(len(sistema)):\n",
    "        monedas = int((cantidad-valor_acumulado)/sistema[i])\n",
    "        solucion[i]=monedas\n",
    "        valor_acumulado += monedas * sistema[i]\n",
    "        if valor_acumulado == cantidad: break\n",
    "    return solucion\n",
    "\n",
    "sistema=[25,10,5,1]\n",
    "cambio_moneda(138,sistema)"
   ]
  },
  {
   "cell_type": "markdown",
   "metadata": {},
   "source": [
    "* Dados los puntos [3403, 4537, 9089, 8746,7259], obtener los dos números más cercanos."
   ]
  },
  {
   "cell_type": "markdown",
   "metadata": {},
   "source": [
    "1. Primer Intento (Fuerza Bruta - 1D - 2D - 3D -... - ND):"
   ]
  },
  {
   "cell_type": "code",
   "execution_count": 16,
   "metadata": {},
   "outputs": [
    {
     "name": "stdout",
     "output_type": "stream",
     "text": [
      "Los punto más cercanos son: ((1, 2), (21, 50)) con una distancia de: 52.0\n"
     ]
    }
   ],
   "source": [
    "import numpy as np\n",
    "\n",
    "def distance(point1, point2):\n",
    "    point1_arr = np.array(point1)\n",
    "    point2_arr = np.array(point2)\n",
    "\n",
    "    #Distancia euclidea\n",
    "    dist= np.linalg.norm(point1_arr - point2_arr)\n",
    "    return dist\n",
    "def brute_force(points):\n",
    "    #inicializo la distancia mínima a infinito\n",
    "    min_distance = float(\"inf\")\n",
    "\n",
    "    point_pairs = None\n",
    "\n",
    "    for i in range(len(points)):\n",
    "        for j in range(i+1 , len(points)):\n",
    "            dist = distance(points[i], points[j])\n",
    "            if dist < min_distance:\n",
    "                min_distance = dist\n",
    "                point_pairs = (points[i], points[j])\n",
    "\n",
    "    return point_pairs, min_distance\n",
    "\n",
    "points = [(1,2), (300,7), (50,100), (21,50)]\n",
    "\n",
    "point_pairs , min_distance = brute_force(points)\n",
    "print(f\"Los punto más cercanos son: {point_pairs} con una distancia de: {min_distance}\")\n",
    "\n",
    "#Complejidad del algoritmo: O(n^2)"
   ]
  }
 ],
 "metadata": {
  "kernelspec": {
   "display_name": "Python 3",
   "language": "python",
   "name": "python3"
  },
  "language_info": {
   "codemirror_mode": {
    "name": "ipython",
    "version": 3
   },
   "file_extension": ".py",
   "mimetype": "text/x-python",
   "name": "python",
   "nbconvert_exporter": "python",
   "pygments_lexer": "ipython3",
   "version": "3.10.0"
  },
  "orig_nbformat": 4
 },
 "nbformat": 4,
 "nbformat_minor": 2
}
